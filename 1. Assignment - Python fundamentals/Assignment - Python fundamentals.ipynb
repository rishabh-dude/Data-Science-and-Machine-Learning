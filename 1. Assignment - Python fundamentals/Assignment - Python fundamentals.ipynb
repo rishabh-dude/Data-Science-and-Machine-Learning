{
 "cells": [
  {
   "cell_type": "markdown",
   "metadata": {
    "delateable": false,
    "editable": false
   },
   "source": [
    "# <div class=\"alert alert-block alert-info\"> <span style=\"font-family: Times New Roman\">Assignment on python fundamentals</span> </div>\n"
   ]
  },
  {
   "cell_type": "markdown",
   "metadata": {
    "delateable": false,
    "editable": false
   },
   "source": [
    "###### Note: \n",
    "<div class=\"alert alert-block alert-danger\"> <span style=\"font-family: Times New Roman\"> \n",
    "    - Kindly use this notebook to solve the programming problems. <br>\n",
    "- Submit assignments with .ipynb file extension only.<br>\n",
    "- Kindly use comments or markdowns to explain logic behind the codes, approach to solve the problem.</span></div>"
   ]
  },
  {
   "cell_type": "markdown",
   "metadata": {
    "delateable": false,
    "editable": false
   },
   "source": [
    "<div class=\"warning\" style='padding:0.1em; background-color:#E9D8FD; color:#69337A'>\n",
    "<span>\n",
    "<p style='margin-top:1em; text-align:left'>\n",
    "<b>1. By using a single 'print' function print the provided string in specified execution format. </b></p>\n",
    "    \n",
    "Hello World     \n",
    "Welcome to 'Python' Programming\n",
    "\n"
   ]
  },
  {
   "cell_type": "code",
   "execution_count": 2,
   "metadata": {},
   "outputs": [
    {
     "name": "stdout",
     "output_type": "stream",
     "text": [
      "Hello World\n",
      "Welcome to 'Python' Programming\n"
     ]
    }
   ],
   "source": [
    "#start your code here\n",
    "print('''Hello World\n",
    "Welcome to 'Python' Programming''')"
   ]
  },
  {
   "cell_type": "markdown",
   "metadata": {
    "delateable": false,
    "editable": false
   },
   "source": [
    "<div class=\"warning\" style='padding:0.1em; background-color:#E9D8FD; color:#69337A'>\n",
    "<span>\n",
    "<p style='margin-top:1em; text-align:left'>\n",
    "<b>2. Check the python version which you are using. </b></p>\n",
    "</span></div>\n"
   ]
  },
  {
   "cell_type": "code",
   "execution_count": null,
   "metadata": {},
   "outputs": [],
   "source": [
    "#start your code here\n",
    "python --version"
   ]
  },
  {
   "cell_type": "markdown",
   "metadata": {
    "delateable": false,
    "editable": false
   },
   "source": [
    "<div class=\"warning\" style='padding:0.1em; background-color:#E9D8FD; color:#69337A'>\n",
    "<span>\n",
    "<p style='margin-top:1em; text-align:left'>\n",
    "<b>3. Design a Python program which can calculate the area by taking radius as input by 'user input' method. </b></p>\n",
    "<table>\n",
    "  <tr>\n",
    "  <td><td>\n",
    "      <br> instead of giving direct values try using \"<b>float(input())</b>\" </td>\n",
    "  </tr>\n",
    "</table>\n",
    "</span>\n",
    "</div>\n"
   ]
  },
  {
   "cell_type": "code",
   "execution_count": 2,
   "metadata": {},
   "outputs": [
    {
     "name": "stdout",
     "output_type": "stream",
     "text": [
      "78.5\n"
     ]
    }
   ],
   "source": [
    "#start your code here\n",
    "radius = float(input())\n",
    "area = 3.14 * (radius**2)\n",
    "print(area)\n"
   ]
  },
  {
   "cell_type": "markdown",
   "metadata": {
    "delateable": false,
    "editable": false
   },
   "source": [
    "<div class=\"warning\" style='padding:0.1em; background-color:#E9D8FD; color:#69337A'>\n",
    "<span>\n",
    "<p style='margin-top:1em; text-align:left'>\n",
    "<b>4. Write a python program which can take your first and last name seperately and execute as shown below. </b></p>\n",
    "<table>\n",
    "  <tr>\n",
    "  <td><td>\n",
    "      <br><b>Sample execution</b> : Hello 'first name' 'last name', hope you are doing good</td>\n",
    "  </tr>\n",
    "</table>\n",
    "</span></div>\n"
   ]
  },
  {
   "cell_type": "code",
   "execution_count": 4,
   "metadata": {},
   "outputs": [
    {
     "name": "stdout",
     "output_type": "stream",
     "text": [
      "Hello ho hi, Hope you are doing good\n"
     ]
    }
   ],
   "source": [
    "#start your code here\n",
    "first_name = input()\n",
    "last_name = input()\n",
    "print(\"Hello {} {}, Hope you are doing good\".format(first_name, last_name))"
   ]
  },
  {
   "cell_type": "markdown",
   "metadata": {
    "delateable": false,
    "editable": false
   },
   "source": [
    "<div class=\"warning\" style='padding:0.1em; background-color:#E9D8FD; color:#69337A'>\n",
    "<span>\n",
    "<p style='margin-top:1em; text-align:left'>\n",
    "<b>5. Write a python program which can convert kilograms to grams.</b></p>\n",
    "</span></div>\n",
    "\n"
   ]
  },
  {
   "cell_type": "code",
   "execution_count": 1,
   "metadata": {},
   "outputs": [
    {
     "name": "stdout",
     "output_type": "stream",
     "text": [
      "1000.0\n"
     ]
    }
   ],
   "source": [
    "#start your code here\n",
    "kg = float(input())\n",
    "g = kg * 1000\n",
    "print(float(g))"
   ]
  },
  {
   "cell_type": "markdown",
   "metadata": {
    "delateable": false,
    "editable": false
   },
   "source": [
    "<div class=\"warning\" style='padding:0.1em; background-color:#E9D8FD; color:#69337A'>\n",
    "<span>\n",
    "<p style='margin-top:1em; text-align:left'>\n",
    "<b>6. Create a list and store the given elements in the list, and solve the following questions listed below.</b></p>\n",
    "<table>\n",
    "  <tr>\n",
    "  <td><td>\n",
    "      <br><b>Elements</b>: 'Bengaluru','New York', 1971, '1682', (1,2,3,4,5,'Is this tuple?'),\"'Hello,welcome to Python Programming'\"</td>\n",
    "  </tr>\n",
    "</table>\n",
    "</span>  \n",
    "\n",
    "- Try to extract entire tuple by using positive indexing  \n",
    "- Can we add elements into tuple after creating it?\n",
    "- Remove '1682' and 'New York' from the list\n",
    "- Discuss one practical application of tuple and lists\n",
    "- Access 'Bengaluru' by Negitive indexing\n",
    "- add 'Mumbai' into the list\n",
    "\n",
    "- Try to perform one operation on each removal operation on lists \n",
    "\n",
    "1. del\n",
    "2. remove\n",
    "3. pop\n",
    "- Try to perform one operation on each operational\n",
    "1. append\n",
    "2. entend\n",
    "3. insert</div>"
   ]
  },
  {
   "cell_type": "code",
   "execution_count": 4,
   "metadata": {},
   "outputs": [
    {
     "name": "stdout",
     "output_type": "stream",
     "text": [
      "['Banglore', 'New York', 1971, '1682', (1, 2, 3, 4, 5, 'is this tuple?'), \"'Hello, welcome to Python Programming\"]\n",
      "(1, 2, 3, 4, 5, 'is this tuple?')\n",
      "Banglore\n",
      "['Banglore', 1971, (1, 2, 3, 4, 5, 'is this tuple?'), \"'Hello, welcome to Python Programming\", 'Mumbai']\n"
     ]
    },
    {
     "data": {
      "text/plain": [
       "[(1, 2, 3, 4, 5, 'is this tuple?'), 'delhi', 'Mumbai', '1863']"
      ]
     },
     "execution_count": 4,
     "metadata": {},
     "output_type": "execute_result"
    }
   ],
   "source": [
    "# start your code here\n",
    "list1 = [\"Banglore\", \"New York\", 1971, \"1682\", (1,2,3,4,5, \"is this tuple?\"), \"'Hello, welcome to Python Programming\"]\n",
    "print(list1)\n",
    "\n",
    "print(list1[4])\n",
    "\n",
    "# no we cannot add element into a tuple as they are immutable\n",
    "\n",
    "list1.pop(1)\n",
    "list1.remove(\"1682\")\n",
    "list1\n",
    "\n",
    "# Tuples are used when we want the sequencial data in a variable to be immutable i.e. they cannot be changed or editted later ex: Final Marks of a student during final exams\n",
    "# wehereas list are sequencial data which can be editted later as per the user requirements ex: name of the city a person lives in can change if he is shifted\n",
    "\n",
    "print(list1[-4])\n",
    "\n",
    "list1.append(\"Mumbai\")\n",
    "print(list1)\n",
    "\n",
    "del list1[1]\n",
    "list1.remove(\"Banglore\")\n",
    "list1.pop(1)\n",
    "list1\n",
    "\n",
    "list1.append(\"1863\")\n",
    "# there is no operation in python called entend\n",
    "list1.insert(1, \"delhi\")\n",
    "list1"
   ]
  },
  {
   "cell_type": "markdown",
   "metadata": {
    "delateable": false,
    "editable": false
   },
   "source": [
    "<div class=\"warning\" style='padding:0.1em; background-color:#E9D8FD; color:#69337A'>\n",
    "<span>\n",
    "<p style='margin-top:1em; text-align:left'>\n",
    "<b>7. Write a python program which can calculate the electricity bill by considering the no. of units consumed and other parameters are mentioned below.</b></p>\n",
    "</span>  \n",
    "\n",
    "- If units consumed is less than 50 then bill amount should be 100INR.\n",
    "- If units consumed between 50 - 300 then each unit will be charged at 4.5 INR.\n",
    "- If units are consumed more than 300 then that billed individual have to pay base pay as 1000INR and 300 units will be reduced from his total consumed units and for remaining units 7 INR will be charged for each unit.\n",
    "</div>\n",
    "\n",
    "\n"
   ]
  },
  {
   "cell_type": "code",
   "execution_count": 7,
   "metadata": {},
   "outputs": [
    {
     "name": "stdout",
     "output_type": "stream",
     "text": [
      "Amount = 1350.0 Inr\n"
     ]
    }
   ],
   "source": [
    "#start your code here\n",
    "units = float(input())\n",
    "if units<50:\n",
    "    print(\"Amount = 100 Inr\")\n",
    "elif units in range(50, 301):\n",
    "    print(\"Amount = {} Inr\".format(units*4.5))\n",
    "else:\n",
    "    base_pay = 1000\n",
    "    total_units = units - 300\n",
    "    print(\"Amount = {} Inr\".format(base_pay + (total_units * 7)))\n"
   ]
  },
  {
   "cell_type": "markdown",
   "metadata": {
    "delateable": false,
    "editable": false
   },
   "source": [
    "<div class=\"warning\" style='padding:0.1em; background-color:#E9D8FD; color:#69337A'>\n",
    "<span>\n",
    "<p style='margin-top:1em; text-align:left'>\n",
    "<b>8. Write a program to calculate the tax of the vehicle based on the price.</b></p>\n",
    "</span>  \n",
    "- below are the parameters to consider\n",
    "\n",
    "    Cost price (in Rs)                                            Tax\n",
    "        > 150000                                                   18%\n",
    "        >100000 and <=150000                                       15 %\n",
    "        > 0 and <= 100000                                          10%\n",
    "         \n",
    "        "
   ]
  },
  {
   "cell_type": "code",
   "execution_count": 32,
   "metadata": {},
   "outputs": [
    {
     "name": "stdout",
     "output_type": "stream",
     "text": [
      "Tax = 10000.0 Inr\n"
     ]
    }
   ],
   "source": [
    "#start your code here\n",
    "price = float(input())\n",
    "if price > 150000:\n",
    "    print(\"Tax = {} Inr\".format(price * 0.18))\n",
    "elif price in range(100001, 150001):\n",
    "    print(\"Tax = {} Inr\".format(price * 0.15))\n",
    "else:\n",
    "    print(\"Tax = {} Inr\".format(price * 0.10))\n"
   ]
  },
  {
   "cell_type": "markdown",
   "metadata": {
    "delateable": false,
    "editable": false
   },
   "source": [
    "<div class=\"warning\" style='padding:0.1em; background-color:#E9D8FD; color:#69337A'>\n",
    "<span>\n",
    "<p style='margin-top:1em; text-align:left'>\n",
    "<b>9. Write a program to check if the input is positive or negative.</b></p>\n",
    "</span></div>\n",
    "\n"
   ]
  },
  {
   "cell_type": "code",
   "execution_count": 16,
   "metadata": {},
   "outputs": [
    {
     "name": "stdout",
     "output_type": "stream",
     "text": [
      "It's Zero\n"
     ]
    }
   ],
   "source": [
    "#start your code here\n",
    "inp1 = float(input())\n",
    "if inp1 > 0:\n",
    "    print(\"True\")\n",
    "elif inp1 < 0:\n",
    "    print(\"False\")\n",
    "else:\n",
    "    print(\"It's Zero\")"
   ]
  },
  {
   "cell_type": "markdown",
   "metadata": {
    "delateable": false,
    "editable": false
   },
   "source": [
    "<div class=\"warning\" style='padding:0.1em; background-color:#E9D8FD; color:#69337A'>\n",
    "<span>\n",
    "<p style='margin-top:1em; text-align:left'>\n",
    "<b>10. Define a function which can multiply the string with n number of times.</b></p>\n",
    "</span>\n",
    "\n",
    " \n",
    "- string = \"python programming\"</div>\n"
   ]
  },
  {
   "cell_type": "code",
   "execution_count": 21,
   "metadata": {},
   "outputs": [
    {
     "name": "stdout",
     "output_type": "stream",
     "text": [
      "Python ProgrammingPython ProgrammingPython ProgrammingPython Programming\n"
     ]
    }
   ],
   "source": [
    "#start your code here\n",
    "def inp1(n):\n",
    "    n = int(input())\n",
    "    string = \"Python Programming\"\n",
    "    return(string * n)\n",
    "\n",
    "print(inp1(5))\n"
   ]
  },
  {
   "cell_type": "markdown",
   "metadata": {
    "delateable": false,
    "editable": false
   },
   "source": [
    "<div class=\"warning\" style='padding:0.1em; background-color:#E9D8FD; color:#69337A'>\n",
    "<span>\n",
    "<p style='margin-top:1em; text-align:left'>\n",
    "<b>11. Define a function which can sum up two numbers.</b></p>\n",
    "</span>\n",
    "\n"
   ]
  },
  {
   "cell_type": "code",
   "execution_count": 25,
   "metadata": {},
   "outputs": [
    {
     "name": "stdout",
     "output_type": "stream",
     "text": [
      "13\n"
     ]
    }
   ],
   "source": [
    "#start your code here\n",
    "def add(x,y):\n",
    "    return(x + y)\n",
    "\n",
    "print(add(4, 9))"
   ]
  },
  {
   "cell_type": "markdown",
   "metadata": {
    "delateable": false,
    "editable": false
   },
   "source": [
    "<div class=\"warning\" style='padding:0.1em; background-color:#E9D8FD; color:#69337A'>\n",
    "<span>\n",
    "<p style='margin-top:1em; text-align:left'>\n",
    "<b>12. Define a function which can identify if a user has entered specific string or not.</b></p>\n",
    "</span>\n",
    "\n",
    " \n",
    "- specified string = \"India\"</div>\n",
    "\n"
   ]
  },
  {
   "cell_type": "code",
   "execution_count": null,
   "metadata": {},
   "outputs": [],
   "source": [
    "#start your code here\n",
    "def str(x):\n",
    "    if x == \"India\":\n",
    "        print(\"It's India\")\n",
    "    else:\n",
    "        print(\"It's not India\")\n",
    "    return(x)"
   ]
  },
  {
   "cell_type": "markdown",
   "metadata": {
    "delateable": false,
    "editable": false
   },
   "source": [
    "<div class=\"warning\" style='padding:0.1em; background-color:#E9D8FD; color:#69337A'>\n",
    "<span>\n",
    "<p style='margin-top:1em; text-align:left'>\n",
    "<b>13. Define a function which will greet by taking user name as input.</b></p>\n",
    "</span>\n",
    " \n",
    "- input = name\n",
    "- hello 'name', hope you are doing well</div>\n",
    "\n",
    "\n",
    "\n"
   ]
  },
  {
   "cell_type": "code",
   "execution_count": 33,
   "metadata": {},
   "outputs": [
    {
     "name": "stdout",
     "output_type": "stream",
     "text": [
      "Hello hello, hope you are doing well\n"
     ]
    }
   ],
   "source": [
    "#start your code here\n",
    "def greet():\n",
    "    name = input()\n",
    "    return(\"Hello {}, hope you are doing well\".format(name))\n",
    "\n",
    "print(greet())\n"
   ]
  },
  {
   "cell_type": "markdown",
   "metadata": {
    "delateable": false,
    "editable": false
   },
   "source": [
    "<div class=\"warning\" style='padding:0.1em; background-color:#E9D8FD; color:#69337A'>\n",
    "<span>\n",
    "<p style='margin-top:1em; text-align:left'>\n",
    "<b>14. Define a function which can give us the entire prime numbers within the given range.</b></p>\n",
    "<b>- For range(), input should be taken from the user.</b></p>\n",
    "</span>\n",
    "</div>\n",
    "\n"
   ]
  },
  {
   "cell_type": "code",
   "execution_count": 5,
   "metadata": {},
   "outputs": [
    {
     "name": "stdout",
     "output_type": "stream",
     "text": [
      "[3, 5, 7, 9, 11, 13, 15, 17, 19]\n"
     ]
    }
   ],
   "source": [
    "#start your code here\n",
    "def prnum(x,y):\n",
    "    result = []\n",
    "    for i in range(x, y):\n",
    "        if i % 2 != 0:\n",
    "            result.append(i)\n",
    "    return(result)\n",
    "\n",
    "print(prnum(2, 20))"
   ]
  },
  {
   "cell_type": "markdown",
   "metadata": {
    "delateable": false,
    "editable": false
   },
   "source": [
    "<div class=\"warning\" style='padding:0.1em; background-color:#E9D8FD; color:#69337A'>\n",
    "<span>\n",
    "<p style='margin-top:1em; text-align:left'>\n",
    "<b>15.Check if a given string is palindrome.\n",
    "</b></p>\n",
    "</span>\n",
    "<br> A string is palindrome if the reverse of the string is same as itself.\n",
    "<br> For eg. madam\n",
    "<br> Print \" `string` is palindrome\" if it is palindrome \n",
    "<br> else \" `string` is not a palindrome\" if it is not a palindrome.\n",
    "\n",
    "<br><b> Hint : Use slicing to get reverse of the string.\n"
   ]
  },
  {
   "cell_type": "code",
   "execution_count": 38,
   "metadata": {},
   "outputs": [
    {
     "name": "stdout",
     "output_type": "stream",
     "text": [
      "It's not a palindrome\n"
     ]
    }
   ],
   "source": [
    "#start your code here\n",
    "str1 = input()\n",
    "if str1 == str1[::-1]:\n",
    "    print(\"it's a palindrome\")\n",
    "else:\n",
    "    print(\"It's not a palindrome\")"
   ]
  },
  {
   "cell_type": "markdown",
   "metadata": {
    "delateable": false,
    "editable": false
   },
   "source": [
    "<div class=\"warning\" style='padding:0.1em; background-color:#E9D8FD; color:#69337A'>\n",
    "<span>\n",
    "<p style='margin-top:1em; text-align:left'>\n",
    "<b>16. Write a python program to find n is a leap year.\n",
    "</b></p>\n",
    "</span>\n",
    "<br> Print \"n is a leap year\" if the given year is leap year.\n",
    "<br> Print \"n is not a leap year\" if the given year is not leap year.\n",
    "<br> Replace n with given year.\n",
    "    \n",
    "<br><b>   Hint : Use nested if-else </b>\n",
    "</div>\n"
   ]
  },
  {
   "cell_type": "code",
   "execution_count": 42,
   "metadata": {},
   "outputs": [
    {
     "name": "stdout",
     "output_type": "stream",
     "text": [
      "2023 is NOT a Leap Year\n"
     ]
    }
   ],
   "source": [
    "#start your codes here\n",
    "year = int(input())\n",
    "if (year % 4 == 0 and year % 100 != 0) or (year % 400 == 0):\n",
    "    print(\"{} is a Leap Year\".format(year)) \n",
    "else:\n",
    "    print(\"{} is NOT a Leap Year\".format(year))"
   ]
  },
  {
   "cell_type": "markdown",
   "metadata": {
    "delateable": false,
    "editable": false
   },
   "source": [
    "<div class=\"warning\" style='padding:0.1em; background-color:#E9D8FD; color:#69337A'>\n",
    "<span>\n",
    "<p style='margin-top:1em; text-align:left'>\n",
    "<b>17. Define a function to check if n is leap year.</b></p>\n",
    "</span>\n",
    "   \n",
    "<b> Hint: Using the calendar module </b>\n",
    "</div>\n"
   ]
  },
  {
   "cell_type": "code",
   "execution_count": 43,
   "metadata": {},
   "outputs": [
    {
     "name": "stdout",
     "output_type": "stream",
     "text": [
      "False\n"
     ]
    }
   ],
   "source": [
    "#start your codes here\n",
    "import calendar\n",
    "year = int(input())\n",
    "leap_year = calendar.isleap(year)\n",
    "print(leap_year)"
   ]
  },
  {
   "cell_type": "markdown",
   "metadata": {
    "delateable": false,
    "editable": false
   },
   "source": [
    "<div class=\"warning\" style='padding:0.1em; background-color:#E9D8FD; color:#69337A'>\n",
    "<span>\n",
    "<p style='margin-top:1em; text-align:left'>\n",
    "<b>18. Find the largest among three numbers.</b></p>\n",
    "</span>\n",
    "\n",
    " eg. Consider a,b,c as the three numbers, find which is the  largest number among them."
   ]
  },
  {
   "cell_type": "code",
   "execution_count": 1,
   "metadata": {},
   "outputs": [
    {
     "name": "stdout",
     "output_type": "stream",
     "text": [
      "9\n"
     ]
    }
   ],
   "source": [
    "#start your code here\n",
    "a, b, c = 3, 4, 9\n",
    "largest = max(a, b, c)\n",
    "print(largest)"
   ]
  },
  {
   "cell_type": "markdown",
   "metadata": {
    "delateable": false,
    "editable": false
   },
   "source": [
    "\n",
    "<div class=\"warning\" style='padding:0.1em; background-color:#E9D8FD; color:#69337A'>\n",
    "<span>\n",
    "<p style='margin-top:1em; text-align:left'>\n",
    "<b>19. Write a python program to print even numbers from 1 to 15 by using range() function.\n",
    "</b></p>\n",
    "</span>\n"
   ]
  },
  {
   "cell_type": "code",
   "execution_count": 49,
   "metadata": {},
   "outputs": [
    {
     "name": "stdout",
     "output_type": "stream",
     "text": [
      "[2, 4, 6, 8, 10, 12, 14]\n"
     ]
    }
   ],
   "source": [
    "#start your code here\n",
    "lst = []\n",
    "for i in range(1, 15):\n",
    "    if i % 2 == 0:\n",
    "        lst.append(i)\n",
    "print(lst)"
   ]
  },
  {
   "cell_type": "markdown",
   "metadata": {
    "delateable": false,
    "editable": false
   },
   "source": [
    "<div class=\"warning\" style='padding:0.1em; background-color:#E9D8FD; color:#69337A'>\n",
    "<span>\n",
    "<p style='margin-top:1em; text-align:left'>\n",
    "<b>20. Write a program to guess the integer which is selected by computer using  randint() function.\n",
    "</b></p>\n",
    "</span>\n",
    "\n",
    "- Use random() and randint().\n",
    "- Range should be 1 to 10.\n",
    "- If user's number is greater than 10 then program should say your guess is too high.\n",
    "- If user input is matches with the computer choice then your program should say \"yey! correct guess\".\n",
    "- Otherwise your program should say too low.\n",
    "\n",
    "    <b>- Important point to note is, this must be an iterative process until the correct guess.</div>"
   ]
  },
  {
   "cell_type": "code",
   "execution_count": 61,
   "metadata": {},
   "outputs": [
    {
     "name": "stdout",
     "output_type": "stream",
     "text": [
      "Too Low\n",
      "Too Low\n",
      "Too Low\n",
      "Yey! Correct Guess\n"
     ]
    }
   ],
   "source": [
    "#start your code here\n",
    "import random\n",
    "\n",
    "num = random.randint(1, 10)\n",
    "guess = None\n",
    "while guess != num:\n",
    "    guess = input()\n",
    "    guess = int(guess)\n",
    "    if guess > num or guess > 10:\n",
    "        print(\"Guess too High\")\n",
    "    elif guess == num:\n",
    "        print(\"Yey! Correct Guess\")\n",
    "    else:\n",
    "        print(\"Too Low\")\n",
    "\n"
   ]
  }
 ],
 "metadata": {
  "kernelspec": {
   "display_name": "Python 3 (ipykernel)",
   "language": "python",
   "name": "python3"
  },
  "language_info": {
   "codemirror_mode": {
    "name": "ipython",
    "version": 3
   },
   "file_extension": ".py",
   "mimetype": "text/x-python",
   "name": "python",
   "nbconvert_exporter": "python",
   "pygments_lexer": "ipython3",
   "version": "3.10.12"
  }
 },
 "nbformat": 4,
 "nbformat_minor": 4
}
