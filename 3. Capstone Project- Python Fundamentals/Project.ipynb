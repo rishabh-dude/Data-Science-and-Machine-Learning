{
 "cells": [
  {
   "cell_type": "code",
   "execution_count": null,
   "metadata": {},
   "outputs": [],
   "source": [
    "#importing the necessary Library\n",
    "import pandas as pd\n",
    "import numpy as np"
   ]
  },
  {
   "cell_type": "markdown",
   "metadata": {},
   "source": [
    "Task 1"
   ]
  },
  {
   "cell_type": "code",
   "execution_count": null,
   "metadata": {},
   "outputs": [],
   "source": [
    "#Creating Project DataFrame\n",
    "project = {\"ID\":[\"A001\", \"A002\", \"A003\", \"A004\", \"A005\", \"A002\", \"A005\", \"A003\", \"A001\", \"A003\", \"A001\", \"A004\", \"A004\", \"A005\"],\n",
    "              \"Project\":[\"Project 1\", \"Project 2\", \"Project 3\", \"Project 4\", \"Project 5\", \"Project 6\", \"Project 7\", \"Project 8\", \"Project 9\", \"Project 10\", \"Project 11\", \"Project 12\", \"Project 13\", \"Project 14\"],\n",
    "              \"Cost\":[1002000, 2000000, 4500000, 5500000, np.nan, 680000, 400000, 350000, np.nan, 300000, 2000000, 1000000, 3000000, 200000],\n",
    "              \"Status\":[\"Finished\", \"Ongoing\", \"Finished\", \"Ongoing\", \"Finished\", \"Failed\", \"Finished\", \"Failed\", \"Ongoing\", \"Finished\", \"Failed\", \"Ongoing\", \"Finished\", \"Finished\"]\n",
    "              }\n",
    "project_df = pd.DataFrame(project) #Converting Dictionary to DataFrame\n",
    "project_df.to_csv(\"Project.csv\", index=False) #Creating a CSV from Dataframe"
   ]
  },
  {
   "cell_type": "code",
   "execution_count": null,
   "metadata": {},
   "outputs": [],
   "source": [
    "#Creating Employee Dataframe\n",
    "employee = {\"ID\":[\"A001\", \"A002\", \"A003\", \"A004\", \"A005\"],\n",
    "            \"Name\":[\"John Alter\", \"Alice Luxumberg\", \"Tom Sabestine\", \"Nina Adgra\", \"Amy Johny\"],\n",
    "            \"Gender\":[\"M\", \"F\", \"M\", \"F\", \"F\"],\n",
    "            \"City\":[\"Paris\", \"London\", \"Berlin\", \"Newyork\", \"Madrid\"],\n",
    "            \"Age\":[25, 27, 29, 31, 30]\n",
    "            }\n",
    "employee_df = pd.DataFrame(employee) #Converting Dictionary to DataFrame\n",
    "employee_df.to_csv(\"Employee.csv\", index=False) #Creating a CSV from Dataframe"
   ]
  },
  {
   "cell_type": "code",
   "execution_count": null,
   "metadata": {},
   "outputs": [],
   "source": [
    "#Creating Seniority Level DataFrame\n",
    "seniority = {\"ID\":[\"A001\", \"A002\", \"A003\", \"A004\", \"A005\"],\n",
    "             \"Designation Level\":[2,2,3,2,3]\n",
    "             }\n",
    "seniority_df = pd.DataFrame(seniority) #Converting Dictionary to DataFrame\n",
    "seniority_df.to_csv(\"Seniority.csv\", index=False) #Creating a CSV from Dataframe"
   ]
  },
  {
   "cell_type": "markdown",
   "metadata": {},
   "source": [
    "Task 2"
   ]
  },
  {
   "cell_type": "code",
   "execution_count": null,
   "metadata": {},
   "outputs": [],
   "source": [
    "# Calculate running average and replace missing values\n",
    "running_sum = 0\n",
    "count = 0\n",
    "\n",
    "for index, row in project_df.iterrows():\n",
    "    if not np.isnan(row['Cost']):\n",
    "        running_sum += row['Cost']\n",
    "        count += 1\n",
    "    else:\n",
    "        if count != 0:\n",
    "            average = running_sum / count\n",
    "            project_df.at[index, 'Cost'] = average\n",
    "\n",
    "# Save the updated DataFrame to a new CSV file\n",
    "project_df.to_csv(\"Project.csv\", index=False)"
   ]
  },
  {
   "cell_type": "markdown",
   "metadata": {},
   "source": [
    "Task 3"
   ]
  },
  {
   "cell_type": "code",
   "execution_count": null,
   "metadata": {},
   "outputs": [],
   "source": [
    "x = employee_df['Name'].str.split(' ', expand=True) #split name column at \" \"\n",
    "employee_df[\"First Name\"] = x[0] #Assigning first name with indexing\n",
    "employee_df[\"Last Name\"] = x[1] # Assigning Last name with indexing\n",
    "employee_df.drop(columns=['Name'], inplace=True) #remove the name column\n",
    "employee_df.to_csv(\"Employee.csv\", index=False) #make changes into the csv file"
   ]
  },
  {
   "cell_type": "markdown",
   "metadata": {},
   "source": [
    "Task 4"
   ]
  },
  {
   "cell_type": "code",
   "execution_count": null,
   "metadata": {},
   "outputs": [],
   "source": [
    "final_df = pd.merge(employee_df, seniority_df, on='ID') #mergeing dataframes\n",
    "final_df = pd.merge(final_df, project_df, on='ID') # merging dataframes\n",
    "final_df.to_csv(\"Final.csv\", index=False) #creating a csv file"
   ]
  },
  {
   "cell_type": "markdown",
   "metadata": {},
   "source": [
    "Task 5"
   ]
  },
  {
   "cell_type": "code",
   "execution_count": null,
   "metadata": {},
   "outputs": [],
   "source": [
    "final_df['Bonus'] = (final_df['Cost'] * 0.05).where(final_df['Status'] == 'Finished') #adding the bonus column\n",
    "final_df.to_csv(\"Final.csv\", index=False) #creating a csv file"
   ]
  },
  {
   "cell_type": "markdown",
   "metadata": {},
   "source": [
    "Task 6"
   ]
  },
  {
   "cell_type": "code",
   "execution_count": null,
   "metadata": {
    "tags": []
   },
   "outputs": [],
   "source": [
    "# Demote the designation level by 1 for employees whose projects have status \"Failed\"\n",
    "final_df[\"Designation Level\"] = final_df[\"Designation Level\"].where(final_df[\"Status\"] != 'Failed', final_df[\"Designation Level\"] - 1)\n",
    "\n",
    "# Delete the employees record whose designation level is above 4\n",
    "final_df = final_df[final_df[\"Designation Level\"] <= 4]\n",
    "final_df.to_csv(\"Final.csv\", index=False) #creating a csv file"
   ]
  },
  {
   "cell_type": "markdown",
   "metadata": {},
   "source": [
    "Task 7"
   ]
  },
  {
   "cell_type": "code",
   "execution_count": null,
   "metadata": {},
   "outputs": [],
   "source": [
    "# Add \"Mr.\" and \"Mrs.\" to the first name column\n",
    "final_df.loc[final_df['Gender'] == 'M', 'First Name'] = 'Mr. ' + final_df['First Name']\n",
    "final_df.loc[final_df['Gender'] == 'F', 'First Name'] = 'Mrs. ' + final_df['First Name']\n",
    "# Drop the gender column\n",
    "final_df.drop(columns=['Gender'], inplace=True)\n",
    "final_df.to_csv(\"Final.csv\", index=False) #creating a csv file"
   ]
  },
  {
   "cell_type": "markdown",
   "metadata": {},
   "source": [
    "Task 8"
   ]
  },
  {
   "cell_type": "code",
   "execution_count": null,
   "metadata": {},
   "outputs": [],
   "source": [
    "# Promote designation level by 1 for employees whose age is more than 29 years\n",
    "final_df[\"Designation Level\"] = final_df[\"Designation Level\"].where((final_df[\"Age\"] > 29), final_df[\"Designation Level\"] + 1)\n",
    "final_df.to_csv(\"Final.csv\", index=False) #creating a csv file"
   ]
  },
  {
   "cell_type": "markdown",
   "metadata": {},
   "source": [
    "Task 9"
   ]
  },
  {
   "cell_type": "code",
   "execution_count": null,
   "metadata": {},
   "outputs": [],
   "source": [
    "# Calculate the total project cost for each employee\n",
    "total_proj_cost = project_df.groupby('ID')['Cost'].sum().reset_index()\n",
    "\n",
    "# Merge the total project cost with the employee dataframe\n",
    "total_proj_cost = total_proj_cost.merge(employee_df, on='ID')[['ID', 'First Name', 'Cost']]\n",
    "\n",
    "# Save the total project cost dataframe to a new CSV file\n",
    "total_proj_cost.to_csv('total_project_cost.csv', index=False)"
   ]
  },
  {
   "cell_type": "markdown",
   "metadata": {},
   "source": [
    "Task 10"
   ]
  },
  {
   "cell_type": "code",
   "execution_count": null,
   "metadata": {},
   "outputs": [],
   "source": [
    "# Filter the employees whose city name contains the letter \"o\"\n",
    "cityo_df = final_df[final_df['City'].str.contains('o')]\n",
    "\n",
    "# Print the filtered dataframe\n",
    "print(cityo_df)"
   ]
  }
 ],
 "metadata": {
  "kernelspec": {
   "display_name": "Python 3",
   "language": "python",
   "name": "python3"
  },
  "language_info": {
   "codemirror_mode": {
    "name": "ipython",
    "version": 3
   },
   "file_extension": ".py",
   "mimetype": "text/x-python",
   "name": "python",
   "nbconvert_exporter": "python",
   "pygments_lexer": "ipython3",
   "version": "3.12.1"
  }
 },
 "nbformat": 4,
 "nbformat_minor": 2
}
