{
 "cells": [
  {
   "cell_type": "code",
   "execution_count": null,
   "metadata": {},
   "outputs": [],
   "source": [
    "# import libraries to work through the project \n",
    "import pandas as pd \n",
    "import numpy as np \n",
    "import matplotlib.pyplot as plt \n",
    "import seaborn as sns \n",
    "from scipy.stats import ttest_1samp,ttest_ind,norm,stats"
   ]
  },
  {
   "cell_type": "code",
   "execution_count": null,
   "metadata": {},
   "outputs": [],
   "source": [
    "df = pd.read_csv(r'India.csv') # importing csv file through read csv function\n",
    "\n",
    "# Please use loction as per your system other wise it will thorow error"
   ]
  },
  {
   "cell_type": "code",
   "execution_count": null,
   "metadata": {},
   "outputs": [],
   "source": [
    "df.head(10)"
   ]
  },
  {
   "cell_type": "code",
   "execution_count": null,
   "metadata": {},
   "outputs": [],
   "source": [
    "df.info() # understanding data type and null values "
   ]
  },
  {
   "cell_type": "code",
   "execution_count": null,
   "metadata": {},
   "outputs": [],
   "source": [
    "df['date'] = pd.to_datetime(df['date'], format = '%d-%m-%Y') # coverting object dype of date column to date time to work more efficiently "
   ]
  },
  {
   "cell_type": "code",
   "execution_count": null,
   "metadata": {},
   "outputs": [],
   "source": [
    "df.info()"
   ]
  },
  {
   "cell_type": "code",
   "execution_count": null,
   "metadata": {},
   "outputs": [],
   "source": [
    "df.isnull().sum() # Number of Null value each column have "
   ]
  },
  {
   "cell_type": "code",
   "execution_count": null,
   "metadata": {},
   "outputs": [],
   "source": [
    "df.drop(index=df.iloc[0:8].index.tolist(),inplace=True) # Removed first 8 rows as there is no cases in these rows and no major info loss "
   ]
  },
  {
   "cell_type": "code",
   "execution_count": null,
   "metadata": {},
   "outputs": [],
   "source": [
    "df[df['people_vaccinated'] >0 ] # checking for vaccinated people "
   ]
  },
  {
   "cell_type": "code",
   "execution_count": null,
   "metadata": {},
   "outputs": [],
   "source": [
    "df['people_vaccinated'].fillna(0,inplace=True) # Assuming there is no vacines available in market till data "
   ]
  },
  {
   "cell_type": "code",
   "execution_count": null,
   "metadata": {},
   "outputs": [],
   "source": [
    "df['people_fully_vaccinated'] = df['people_fully_vaccinated'].replace(np.nan,0) # assuming there is no vacine and people one get first dose in recent days "
   ]
  },
  {
   "cell_type": "code",
   "execution_count": null,
   "metadata": {},
   "outputs": [],
   "source": [
    "df.isnull().sum() # no major nan values have been remove we now remove the value by eliminating tem "
   ]
  },
  {
   "cell_type": "code",
   "execution_count": null,
   "metadata": {},
   "outputs": [],
   "source": [
    "df.dropna(inplace=True) # very few value no major impact one our research we drop them "
   ]
  },
  {
   "cell_type": "code",
   "execution_count": null,
   "metadata": {},
   "outputs": [],
   "source": [
    "df.info() # No our data majorly cleaned and ready for eda \n",
    "\n",
    "# we have 761 row and 15 column to work on "
   ]
  },
  {
   "cell_type": "code",
   "execution_count": null,
   "metadata": {},
   "outputs": [],
   "source": [
    "df[df['vaccines']>0]"
   ]
  },
  {
   "cell_type": "code",
   "execution_count": null,
   "metadata": {},
   "outputs": [],
   "source": [
    "df.drop(columns='vaccines',inplace=True) # No major info available in column only zero value "
   ]
  },
  {
   "cell_type": "code",
   "execution_count": null,
   "metadata": {},
   "outputs": [],
   "source": [
    "df.set_index('date',inplace=True) # setting Date as index to better work with data "
   ]
  },
  {
   "cell_type": "code",
   "execution_count": null,
   "metadata": {},
   "outputs": [],
   "source": [
    "df.columns # Understanding column Data "
   ]
  },
  {
   "cell_type": "code",
   "execution_count": null,
   "metadata": {},
   "outputs": [],
   "source": [
    "df['confirmed'].describe() # discriptive stat for the confirmed cases "
   ]
  },
  {
   "cell_type": "code",
   "execution_count": null,
   "metadata": {},
   "outputs": [],
   "source": [
    "df['confirmed'].plot() # increase in cases day by day "
   ]
  },
  {
   "cell_type": "code",
   "execution_count": null,
   "metadata": {},
   "outputs": [],
   "source": [
    "df['confirmed'].plot(kind='box')\n",
    "df['confirmed'].skew()"
   ]
  },
  {
   "cell_type": "code",
   "execution_count": null,
   "metadata": {},
   "outputs": [],
   "source": [
    "df['confirmed'].max() # Number of cases till now "
   ]
  },
  {
   "cell_type": "markdown",
   "metadata": {},
   "source": [
    "-Conclusion \n",
    "\n",
    "-Increase in confirmed cases day by day\n",
    "\n",
    "-cofirmed cases is almost normaly distributes "
   ]
  },
  {
   "cell_type": "code",
   "execution_count": null,
   "metadata": {},
   "outputs": [],
   "source": [
    "df['people_vaccinated'].describe()"
   ]
  },
  {
   "cell_type": "code",
   "execution_count": null,
   "metadata": {},
   "outputs": [],
   "source": [
    "df['people_vaccinated'].plot(kind='box') # understanding out lier "
   ]
  },
  {
   "cell_type": "code",
   "execution_count": null,
   "metadata": {},
   "outputs": [],
   "source": [
    "df['people_vaccinated'].plot(kind='hist')"
   ]
  },
  {
   "cell_type": "code",
   "execution_count": null,
   "metadata": {},
   "outputs": [],
   "source": [
    "df['people_vaccinated'].plot() # increamnet people vacinated form near april 2021 "
   ]
  },
  {
   "cell_type": "markdown",
   "metadata": {},
   "source": [
    "-Conclusion\n",
    "\n",
    "- people vacinated column is not normaly distributed \n",
    "\n",
    "- vacination majorly started from April 2021\n"
   ]
  },
  {
   "cell_type": "code",
   "execution_count": null,
   "metadata": {},
   "outputs": [],
   "source": [
    "df['school_closing'] = df['school_closing'].replace(-3,3) # both telling same information make it same\n",
    "\n",
    "#0 - no measures\n",
    "#1 - recommend closing or all schools open with alterations resulting in significant differences compared to non-Covid-19 operations\n",
    "#2 - require closing (only some levels or categories, eg just high school, or just public schools)\n",
    "# 3 - require closing all levels"
   ]
  },
  {
   "cell_type": "code",
   "execution_count": null,
   "metadata": {},
   "outputs": [],
   "source": [
    "df['school_closing'].value_counts().plot(kind='bar')\n",
    "df['school_closing'].value_counts()"
   ]
  },
  {
   "cell_type": "markdown",
   "metadata": {},
   "source": [
    "-Conclusion \n",
    "    - Major recomendation for colosing of school all level during this period "
   ]
  },
  {
   "cell_type": "code",
   "execution_count": null,
   "metadata": {},
   "outputs": [],
   "source": [
    "df['workplace_closing'] = df['workplace_closing'].replace([-1,-2,-3],[1,2,3]) # these value in minus suggesting same thing\n",
    "\n",
    "# 0 - no measures\n",
    "# 1 - recommend closing (or recommend work from home) or all businesses open with alterations resulting in significant differences compared to non-Covid-19 operation\n",
    "# 2 - require closing (or work from home) for some sectors or categories of workers\n",
    "# 3 - require closing (or work from home) for all-but-essential workplaces (eg grocery stores, doctors)"
   ]
  },
  {
   "cell_type": "code",
   "execution_count": null,
   "metadata": {},
   "outputs": [],
   "source": [
    "df['workplace_closing'].describe()"
   ]
  },
  {
   "cell_type": "code",
   "execution_count": null,
   "metadata": {},
   "outputs": [],
   "source": [
    "df['workplace_closing'].value_counts().plot(kind = 'pie')\n",
    "\n",
    "# 3 - require closing (or work from home) for all-but-essential workplaces (eg grocery stores, doctors) is the mojoe with work place closing "
   ]
  },
  {
   "cell_type": "markdown",
   "metadata": {},
   "source": [
    "-Conclusion \n",
    "\n",
    "    -Require closing was the most use for work place closing "
   ]
  },
  {
   "cell_type": "code",
   "execution_count": null,
   "metadata": {},
   "outputs": [],
   "source": [
    "df['cancel_events'].describe()"
   ]
  },
  {
   "cell_type": "code",
   "execution_count": null,
   "metadata": {},
   "outputs": [],
   "source": [
    "df['cancel_events'] = df['cancel_events'].replace([-1,-2],[1,2])\n",
    "#0 - no measures\n",
    "#1 - recommend cancelling\n",
    "#2 - require cancelling"
   ]
  },
  {
   "cell_type": "code",
   "execution_count": null,
   "metadata": {},
   "outputs": [],
   "source": [
    "df['cancel_events'].value_counts().plot(kind='bar')\n"
   ]
  },
  {
   "cell_type": "markdown",
   "metadata": {},
   "source": [
    "# Conclusion \n",
    "- Require cacelling major decision for canceling event "
   ]
  },
  {
   "cell_type": "code",
   "execution_count": null,
   "metadata": {},
   "outputs": [],
   "source": [
    "df['gatherings_restrictions'].describe()"
   ]
  },
  {
   "cell_type": "code",
   "execution_count": null,
   "metadata": {},
   "outputs": [],
   "source": [
    "df['gatherings_restrictions'] = df['gatherings_restrictions'].replace([-1,-2,-3,-4],[1,2,3,4])\n",
    "\n",
    "#0 - no restrictions\n",
    "#1 - restrictions on very large gatherings (the limit is above 1000 people)\n",
    "#2 - restrictions on gatherings between 101-1000 people\n",
    "#3 - restrictions on gatherings between 11-100 people\n",
    "#4 - restrictions on gatherings of 10 people or less"
   ]
  },
  {
   "cell_type": "code",
   "execution_count": null,
   "metadata": {},
   "outputs": [],
   "source": [
    "df['gatherings_restrictions'].value_counts().plot(kind='pie')\n",
    "\n",
    "#4 - restrictions on gatherings of 10 people or less "
   ]
  },
  {
   "cell_type": "markdown",
   "metadata": {},
   "source": [
    "# conclusion \n",
    "\n",
    "\n",
    "--restrictions on gatherings of 10 people or less  major atempt"
   ]
  },
  {
   "cell_type": "code",
   "execution_count": null,
   "metadata": {},
   "outputs": [],
   "source": [
    "df['transport_closing'].describe()"
   ]
  },
  {
   "cell_type": "code",
   "execution_count": null,
   "metadata": {},
   "outputs": [],
   "source": [
    "df['transport_closing'] = df['transport_closing'].replace(-2,2)\n",
    "\n",
    "# 0 - no measures\n",
    "# 1 - recommend closing (or significantly reduce volume/route/means of transport available)\n",
    "# 2 - require closing (or prohibit most citizens from using it)"
   ]
  },
  {
   "cell_type": "code",
   "execution_count": null,
   "metadata": {},
   "outputs": [],
   "source": [
    "df['transport_closing'].value_counts().plot(kind= 'pie')\n",
    "plt.show()"
   ]
  },
  {
   "cell_type": "markdown",
   "metadata": {},
   "source": [
    "# Conclusion \n",
    "--Major Conclusion Require closing "
   ]
  },
  {
   "cell_type": "code",
   "execution_count": null,
   "metadata": {},
   "outputs": [],
   "source": [
    "df['stay_home_restrictions'].describe()"
   ]
  },
  {
   "cell_type": "code",
   "execution_count": null,
   "metadata": {},
   "outputs": [],
   "source": [
    "df['stay_home_restrictions'] = df['stay_home_restrictions'].replace([-1,-2,-3],[1,2,3])\n",
    "\n",
    "# 0 - no measures\n",
    "# 1 - recommend not leaving house\n",
    "# 2 - require not leaving house with exceptions for daily exercise, grocery shopping, and ‘essential’ trips\n",
    "# 3 - require not leaving house with minimal exceptions (eg allowed to leave once a week, or only one person can leave at a time, etc)"
   ]
  },
  {
   "cell_type": "code",
   "execution_count": null,
   "metadata": {},
   "outputs": [],
   "source": [
    "df['stay_home_restrictions'].value_counts()\n",
    "\n",
    "df['stay_home_restrictions'].value_counts().plot(kind='pie')"
   ]
  },
  {
   "cell_type": "markdown",
   "metadata": {},
   "source": [
    "# Conclusion \n",
    "    \n",
    "    -- require not leaving house with exceptions for daily exercise, grocery shopping, and ‘essential’ trips major "
   ]
  },
  {
   "cell_type": "code",
   "execution_count": null,
   "metadata": {},
   "outputs": [],
   "source": [
    "df['international_movement_restrictions'].describe()"
   ]
  },
  {
   "cell_type": "code",
   "execution_count": null,
   "metadata": {},
   "outputs": [],
   "source": [
    "df['international_movement_restrictions'].value_counts()\n",
    "df['international_movement_restrictions'].value_counts().plot(kind='pie')\n",
    "#0 - no restrictions\n",
    "#1 - screening arrivals\n",
    "#2 - quarantine arrivals from some or all regions\n",
    "#3 - ban arrivals from some regions\n",
    "#4 - ban on all regions or total border closure"
   ]
  },
  {
   "cell_type": "markdown",
   "metadata": {},
   "source": [
    "# Conclusion \n",
    "--ban arrivals from some regions majorly done "
   ]
  },
  {
   "cell_type": "code",
   "execution_count": null,
   "metadata": {},
   "outputs": [],
   "source": [
    "df['internal_movement_restrictions'] = df['internal_movement_restrictions'].replace(-2,2)"
   ]
  },
  {
   "cell_type": "code",
   "execution_count": null,
   "metadata": {},
   "outputs": [],
   "source": [
    "df['internal_movement_restrictions'].value_counts().plot(kind='bar')\n",
    "#0 - no measures\n",
    "#1 - recommend not to travel between regions/cities\n",
    "#2 - internal movement restrictions in place"
   ]
  },
  {
   "cell_type": "code",
   "execution_count": null,
   "metadata": {},
   "outputs": [],
   "source": [
    "df['contact_tracing'].value_counts()\n",
    "df['contact_tracing'].value_counts().plot(kind='pie')\n",
    "\n",
    "#0 - no contact tracing\n",
    "#1 - limited contact tracing; not done for all cases\n",
    "#2 - comprehensive contact tracing; done for all identified cases"
   ]
  },
  {
   "cell_type": "code",
   "execution_count": null,
   "metadata": {},
   "outputs": [],
   "source": [
    "df['facial_coverings'] = df['facial_coverings'].replace(-4,4)\n",
    "\n",
    "#0 - No policy\n",
    "#1 - Recommended\n",
    "#2 - Required in some specified shared/public spaces outside the home with other people present, or some situations when social distancing not possible\n",
    "#3 - Required in all shared/public spaces outside the home with other people present or all situations when social distancing not possible\n",
    "#4 - Required outside the home at all times regardless of location or presence of other people"
   ]
  },
  {
   "cell_type": "code",
   "execution_count": null,
   "metadata": {},
   "outputs": [],
   "source": [
    "df['facial_coverings'].value_counts().plot(kind='pie')"
   ]
  },
  {
   "cell_type": "code",
   "execution_count": null,
   "metadata": {},
   "outputs": [],
   "source": [
    "df.columns"
   ]
  },
  {
   "cell_type": "code",
   "execution_count": null,
   "metadata": {},
   "outputs": [],
   "source": [
    "pd.crosstab(df['workplace_closing'],df['school_closing']) # understanding relationship "
   ]
  },
  {
   "cell_type": "code",
   "execution_count": null,
   "metadata": {},
   "outputs": [],
   "source": [
    "# understanding Relation Between confirmed cases and vacinated \n",
    "\n",
    "sns.scatterplot(x='confirmed',y='people_vaccinated', data=df)\n",
    "\n"
   ]
  },
  {
   "cell_type": "code",
   "execution_count": null,
   "metadata": {},
   "outputs": [],
   "source": [
    "sns.pairplot(df) # Understanding Corelation Between variable "
   ]
  },
  {
   "cell_type": "code",
   "execution_count": null,
   "metadata": {},
   "outputs": [],
   "source": [
    "df.corr() # give us corelation between variable"
   ]
  },
  {
   "cell_type": "markdown",
   "metadata": {},
   "source": [
    "Null Hypothesis : There is no significant relationship between confirmed cases and people vacinated \n",
    "\n",
    "Alternate HYpothesis : There is  significant relationship between confirmed cases and people vacinated"
   ]
  },
  {
   "cell_type": "code",
   "execution_count": null,
   "metadata": {},
   "outputs": [],
   "source": [
    "stats.pearsonr(df['confirmed'],df['people_vaccinated'])"
   ]
  },
  {
   "cell_type": "markdown",
   "metadata": {},
   "source": [
    "# Conclusin \n",
    "\n",
    "-- As p value is less than 0.05\n",
    " -- Accept alternate hypothesis the is significant relationship between confirmed cases and people vacinated "
   ]
  },
  {
   "cell_type": "markdown",
   "metadata": {},
   "source": [
    "Null Hypothesis : There is no significant relationship between  confirmed cases and school closing\n",
    "\n",
    "Alternate HYpothesis : There is  significant relationship between confirmed cases and school closing "
   ]
  },
  {
   "cell_type": "code",
   "execution_count": null,
   "metadata": {},
   "outputs": [],
   "source": [
    "school_closed =df['school_closing'] >0  #  3 - require no closing"
   ]
  },
  {
   "cell_type": "code",
   "execution_count": null,
   "metadata": {},
   "outputs": [],
   "source": [
    "ttest_ind(df['confirmed'],school_closed)"
   ]
  },
  {
   "cell_type": "markdown",
   "metadata": {},
   "source": [
    "# Conclusion \n",
    "    --As p value is less then .005 we reject null hypothesis there is significant relationship between confirmed cases and school clossing"
   ]
  },
  {
   "cell_type": "markdown",
   "metadata": {},
   "source": [
    "Null Hypothesis: There is no significant relationship between workplace closing measures and the number of daily cases.\n",
    "\n",
    "Alternate Hypothesis: There is a significant relationship between workplace closing measures and the number of daily cases."
   ]
  },
  {
   "cell_type": "code",
   "execution_count": null,
   "metadata": {},
   "outputs": [],
   "source": [
    "Workplace_closing = df['workplace_closing']>0 # 0 - no measures\n",
    "#1 - recommend closing (or recommend work from home) or all businesses open with alterations resulting in significant differences compared to non-Covid-19 operation\n",
    "#2 - require closing (or work from home) for some sectors or categories of workers\n",
    "#3 - require closing (or work from home) for all-but-essential workplaces (eg grocery stores, doctors)"
   ]
  },
  {
   "cell_type": "code",
   "execution_count": null,
   "metadata": {},
   "outputs": [],
   "source": [
    "ttest_ind(df['confirmed'],Workplace_closing)"
   ]
  },
  {
   "cell_type": "markdown",
   "metadata": {},
   "source": [
    "P-Value is less the .05 \n",
    "\n",
    "---Reject the null hypothes there is significant relation between the confirmed cases and workplace clossing "
   ]
  },
  {
   "cell_type": "markdown",
   "metadata": {},
   "source": [
    "Null Hypothesis: There is no significant relationship between gathering restrictions and the number of daily cases.\n",
    "\n",
    "Alternate Hypothesis: There is a significant relationship between gathering restrictions and the number of daily cases."
   ]
  },
  {
   "cell_type": "code",
   "execution_count": null,
   "metadata": {},
   "outputs": [],
   "source": [
    "gathering = df['gatherings_restrictions'] > 0  # \t0 - no restrictions"
   ]
  },
  {
   "cell_type": "code",
   "execution_count": null,
   "metadata": {},
   "outputs": [],
   "source": [
    "ttest_ind(df['confirmed'],gathering)"
   ]
  },
  {
   "cell_type": "markdown",
   "metadata": {},
   "source": [
    "# P-value Is less than .05\n",
    "\n",
    "--Reject the null hypothesis there is relationship between gathering and number of daily cases "
   ]
  },
  {
   "cell_type": "markdown",
   "metadata": {},
   "source": [
    "Null Hypothesis: There is no significant relationship between transport closing measures and the number of daily cases.\n",
    "\n",
    "Alternate Hypothesis: There is a significant relationship between transport closing measures and the number of daily cases."
   ]
  },
  {
   "cell_type": "code",
   "execution_count": null,
   "metadata": {},
   "outputs": [],
   "source": [
    "transport_closing = df['transport_closing'] >0  #0 - no measures\n",
    "#1 - recommend closing (or significantly reduce volume/route/means of transport available)\n",
    "#2 - require closing (or prohibit most citizens from using it)'''"
   ]
  },
  {
   "cell_type": "code",
   "execution_count": null,
   "metadata": {},
   "outputs": [],
   "source": [
    "ttest_ind(df['confirmed'],transport_closing)"
   ]
  },
  {
   "cell_type": "markdown",
   "metadata": {},
   "source": [
    "As MY p-value is less than 0.05\n",
    "\n",
    "-- reject null hypothesis there is relationship between closing measure and number of daily cases "
   ]
  },
  {
   "cell_type": "markdown",
   "metadata": {},
   "source": [
    "Null Hypothesis: There is no significant relationship between stay-at-home restrictions and the number of daily cases.\n",
    "\n",
    "Alternate Hypothesis: There is a significant relationship between stay-at-home restrictions and the number of daily cases."
   ]
  },
  {
   "cell_type": "markdown",
   "metadata": {},
   "source": [
    "0 - no measures\n",
    "\n",
    "1 - recommend not leaving house\n",
    "\n",
    "2 - require not leaving house with exceptions for daily exercise, grocery shopping, and ‘essential’ trips\n",
    "\n",
    "3 - require not leaving house with minimal exceptions (eg allowed to leave once a week, or only one person can leave at a time, etc)"
   ]
  },
  {
   "cell_type": "code",
   "execution_count": null,
   "metadata": {},
   "outputs": [],
   "source": [
    "sthome = df['stay_home_restrictions'] > 0"
   ]
  },
  {
   "cell_type": "code",
   "execution_count": null,
   "metadata": {},
   "outputs": [],
   "source": [
    "ttest_ind(df['confirmed'],transport_closing)"
   ]
  },
  {
   "cell_type": "markdown",
   "metadata": {},
   "source": [
    "p-value less then .05\n",
    " We can reject the null hypothes and accept the alternative hypothesis"
   ]
  },
  {
   "cell_type": "markdown",
   "metadata": {},
   "source": [
    "Null Hypothesis: There is no significant relationship between internal_movement_restrictions and the number of daily cases.\n",
    "\n",
    "Alternate Hypothesis: There is a significant relationship between internal_movement_restrictions and the number of daily cases."
   ]
  },
  {
   "cell_type": "markdown",
   "metadata": {},
   "source": [
    "0 - no measures\n",
    "\n",
    "1 - recommend not to travel between regions/cities\n",
    "\n",
    "2 - internal movement restrictions in place"
   ]
  },
  {
   "cell_type": "code",
   "execution_count": null,
   "metadata": {},
   "outputs": [],
   "source": [
    "it_mov = df['internal_movement_restrictions'] >0"
   ]
  },
  {
   "cell_type": "code",
   "execution_count": null,
   "metadata": {},
   "outputs": [],
   "source": [
    "ttest_ind(df['confirmed'],it_mov)"
   ]
  },
  {
   "cell_type": "markdown",
   "metadata": {},
   "source": [
    "p-value less then .05\n",
    " We can reject the null hypothes and accept the alternative hypothesis"
   ]
  },
  {
   "cell_type": "markdown",
   "metadata": {},
   "source": [
    "Null Hypothesis: There is no significant relationship between international_movement_restrictions and the number of daily cases.\n",
    "\n",
    "Alternate Hypothesis: There is a significant relationship between international_movement_restrictions and the number of daily cases."
   ]
  },
  {
   "cell_type": "markdown",
   "metadata": {},
   "source": [
    "0 - no restrictions\n",
    "\n",
    "1 - screening arrivals\n",
    "\n",
    "2 - quarantine arrivals from some or all regions\n",
    "\n",
    "3 - ban arrivals from some regions\n",
    "\n",
    "4 - ban on all regions or total border closure"
   ]
  },
  {
   "cell_type": "code",
   "execution_count": null,
   "metadata": {},
   "outputs": [],
   "source": [
    "int_mov = df['international_movement_restrictions'] > 0 "
   ]
  },
  {
   "cell_type": "code",
   "execution_count": null,
   "metadata": {},
   "outputs": [],
   "source": [
    "ttest_ind(df['confirmed'],int_mov)"
   ]
  },
  {
   "cell_type": "markdown",
   "metadata": {},
   "source": [
    "p-value less then .05\n",
    " We can reject the null hypothes and accept the alternative hypothesis"
   ]
  },
  {
   "cell_type": "markdown",
   "metadata": {},
   "source": [
    "Null Hypothesis: There is no significant relationship between facial_coverings and the number of daily cases.\n",
    "\n",
    "Alternate Hypothesis: There is a significant relationship between facial_coverings and the number of daily cases."
   ]
  },
  {
   "cell_type": "markdown",
   "metadata": {},
   "source": [
    "0 - No policy\n",
    "\n",
    "1 - Recommended\n",
    "\n",
    "2 - Required in some specified shared/public spaces outside the home with other people present, or some situations when social distancing not possible\n",
    "\n",
    "3 - Required in all shared/public spaces outside the home with other people present or all situations when social distancing not possible\n",
    "\n",
    "4 - Required outside the home at all times regardless of location or presence of other people"
   ]
  },
  {
   "cell_type": "code",
   "execution_count": null,
   "metadata": {},
   "outputs": [],
   "source": [
    "facial = df['facial_coverings'] > 0"
   ]
  },
  {
   "cell_type": "code",
   "execution_count": null,
   "metadata": {},
   "outputs": [],
   "source": [
    "ttest_ind(df['confirmed'],facial)"
   ]
  },
  {
   "cell_type": "markdown",
   "metadata": {},
   "source": [
    "As p-value is than .05 we reject the null hypothes which mean there is relationship  between facial covering and daily cases "
   ]
  }
 ],
 "metadata": {
  "kernelspec": {
   "display_name": "Python 3",
   "language": "python",
   "name": "python3"
  },
  "language_info": {
   "codemirror_mode": {
    "name": "ipython",
    "version": 3
   },
   "file_extension": ".py",
   "mimetype": "text/x-python",
   "name": "python",
   "nbconvert_exporter": "python",
   "pygments_lexer": "ipython3",
   "version": "3.12.1"
  },
  "orig_nbformat": 4
 },
 "nbformat": 4,
 "nbformat_minor": 2
}
